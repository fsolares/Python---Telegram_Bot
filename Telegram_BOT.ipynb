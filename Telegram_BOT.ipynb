{
 "cells": [
  {
   "cell_type": "markdown",
   "metadata": {},
   "source": [
    "# **TELEGRAM BOT**\n",
    "### *Felipe Solares*\n",
    "### *07/2020*"
   ]
  },
  {
   "cell_type": "markdown",
   "metadata": {},
   "source": [
    "## **About**"
   ]
  },
  {
   "cell_type": "markdown",
   "metadata": {},
   "source": [
    "This is a project using Python 3.7 developed by Felipe Solares da Silva. This is part of his `professional portfolio` and if you want to see more projects like this, go and check my portfolio at https://github.com/fsolares/professional-portfolio.\n",
    "\n",
    "Contact: solares.fs@gmail.com"
   ]
  },
  {
   "cell_type": "markdown",
   "metadata": {},
   "source": [
    "---"
   ]
  },
  {
   "cell_type": "markdown",
   "metadata": {},
   "source": [
    "## **Personal Assitant FelipeBot**\n",
    "### ***Project Purpose***\n",
    ">Build a `Telegram bot` to share professional information about me. A fun way to  recruiters get in touch! If you may, please visit us! - https://t.me/FsolaresBot"
   ]
  },
  {
   "cell_type": "markdown",
   "metadata": {},
   "source": [
    "---"
   ]
  },
  {
   "cell_type": "markdown",
   "metadata": {},
   "source": [
    "## **Step 1 - Installing and Importing Essential Packages and Modules**\n",
    ">To this project, we're going to use only `Telepot`. Telepot helps you build applications for Telegram Bot API and interact with it. It works on Python 2.7 and Python 3. For Python 3.5+, it also has an async version based on asyncio.\n",
    "Mind that the `funcs` and `credentials` modules were created by me to make the code cleaner. All `.py` files will be provided in this repository."
   ]
  },
  {
   "cell_type": "code",
   "execution_count": 1,
   "metadata": {},
   "outputs": [],
   "source": [
    "import telepot\n",
    "from telepot.loop import MessageLoop\n",
    "import funcs as fs\n",
    "from credentials import bot_token"
   ]
  },
  {
   "cell_type": "markdown",
   "metadata": {},
   "source": [
    "## **Step 2 - Functions Dictionary**\n",
    ">In order to make this article more readable, the code was split into four different blocks. One for all functions used to build the app called `funcs.py`, another to group all messages that we wanted to display called `msgs.py`, one for credentials, as the name implies `credentials.py` and the last one `stickers.py` that groups all sticker's id.\n"
   ]
  },
  {
   "cell_type": "markdown",
   "metadata": {},
   "source": [
    "In this step, we're going to describe all functions to a better understanding:\n",
    "\n",
    "1. `fs.Start(chat_id)` - Starts the application using welcome messages and stickers and also poping a keybord button to choose the language for the conversation.\n",
    "\n",
    "2. `fs.Portuguese(chat_id, f_name))` - The bot starts a polite conversation, explainig it's job and presents to the user other options using a pop up keyboard.\n",
    "\n",
    "3. `fs.Prosseguir(chat_id)` and `fs.NProsseguir(chat_id)`  - You have two options, see what the bot has to show(resume, email, contacts...) or leave.\n",
    "\n",
    "4. `fs.PTelegram(chat_id)` - Shows a inline keyboard that redirects the user to my telegram account.\n",
    "\n",
    "5. `fs.PGmail(chat_id)` - Returns my email adress.\n",
    "\n",
    "6. `fs.PCurriculo(chat_id)` - Shows a inline keyboard that redirects the user to my Resume.\n",
    "\n",
    "7. `fs.PLinked(chat_id)` - Shows a inline keyboard that redirects the user to my LinkedIn profile.\n",
    "\n",
    "8. `fs.PGit(chat_id))` - Shows a inline keyboard that redirects the user to my GitHub.\n",
    "\n",
    "9. `fs.PEncerrar(chat_id)` - The bot thank you for interact with it and end the conversation.\n",
    "\n",
    "Every function with a `P` as prefix has a english twin with an `E` prefix. It depends of what language was selected.\n",
    "\n",
    "\n"
   ]
  },
  {
   "cell_type": "markdown",
   "metadata": {},
   "source": [
    "## **Step 3 - The App**\n",
    ">Bots cannot initiate conversations with users. You have to send it a message first. We get the message by calling the `MessageLoop().run_as_thread()` to notify whenever new messages arrive. According to Bot API, the method `MessageLoop` returns an array of Update objects. As you can see below, an Update object is nothing more than a Python dictionary.\n",
    "\n",
    ">`{'message': {'chat': {'first_name': 'Nick',\n",
    "                       'id': 999999999,\n",
    "                       'type': 'private'},\n",
    "              'date': 1465283242,\n",
    "              'from': {'first_name': 'Nick', 'id': 999999999},\n",
    "              'message_id': 10772,\n",
    "              'text': 'Hello'},\n",
    "  'update_id': 100000000}`\n",
    "\n",
    ">So, when we defined `text = msg['text']` we are taking the update object and extracting only the text sent to the bot. The best approach here is to define a handle function, that take the message as input and activate all internal triggers to a correct response."
   ]
  },
  {
   "cell_type": "code",
   "execution_count": null,
   "metadata": {},
   "outputs": [],
   "source": [
    "def handle(msg):\n",
    "    \n",
    "    text = msg['text']\n",
    "    chat_id = msg['chat']['id']\n",
    "    f_name = msg['from']['first_name']\n",
    "    \n",
    "    if text == '/start':\n",
    "        fs.Start(chat_id)\n",
    "    \n",
    "    elif text == 'Português':\n",
    "        fs.Portuguese(chat_id, f_name)\n",
    "        \n",
    "    elif text == 'Sim':   \n",
    "        fs.Prosseguir(chat_id)\n",
    "    \n",
    "    elif text == 'WhatsApp':\n",
    "        fs.PWhats(chat_id)\n",
    "    \n",
    "    elif text == 'Telegram':\n",
    "        fs.PTelegram(chat_id)\n",
    "    \n",
    "    elif text == 'Gmail':\n",
    "        fs.PGmail(chat_id)\n",
    "        \n",
    "    elif text == 'Currículo':\n",
    "        fs.PCurriculo(chat_id)\n",
    "        \n",
    "    elif text == 'LinkedIn':\n",
    "        fs.PLinked(chat_id)\n",
    "        \n",
    "    elif text == 'GitHub':\n",
    "        fs.PGit(chat_id)\n",
    "    \n",
    "    elif text == 'Encerrar':\n",
    "        fs.PEncerrar(chat_id)\n",
    "            \n",
    "    elif text == 'Não':\n",
    "        fs.NProsseguir(chat_id)\n",
    "    \n",
    "    elif text == 'English':\n",
    "        fs.English(chat_id, f_name)\n",
    "        \n",
    "    elif text == 'Yes':   \n",
    "        fs.Proceed(chat_id)\n",
    "    \n",
    "    elif text == 'Msg to WhatsApp':\n",
    "        fs.EWhats(chat_id)\n",
    "    \n",
    "    elif text == 'Msg to Telegram':\n",
    "        fs.ETelegram(chat_id)\n",
    "    \n",
    "    elif text == 'Msg to Gmail':\n",
    "        fs.EGmail(chat_id)\n",
    "        \n",
    "    elif text == 'Open Resume':\n",
    "        fs.ECurriculo(chat_id)\n",
    "        \n",
    "    elif text == 'Open LinkedIn':\n",
    "        fs.ELinked(chat_id)\n",
    "        \n",
    "    elif text == 'Open GitHub':\n",
    "        fs.EGit(chat_id)\n",
    "    \n",
    "    elif text == 'End':\n",
    "        fs.End(chat_id)\n",
    "            \n",
    "    elif text == 'No':\n",
    "        fs.NProceed(chat_id)\n",
    "        \n",
    "\n",
    "MessageLoop(fs.Bot(), handle).run_as_thread()\n",
    "print ('Listening ...')\n",
    "\n",
    "    while 1:\n",
    "        time.sleep(10)"
   ]
  },
  {
   "cell_type": "markdown",
   "metadata": {},
   "source": [
    ">#### That’s the last bit of code you will write. Now we can progress to the last step, deploy our app on Heroku."
   ]
  },
  {
   "cell_type": "markdown",
   "metadata": {},
   "source": [
    "## **Step 4 - Deploy**\n",
    ">#### OK! Our bot is now alive, but not live.\n",
    "At this moment, the app only works when we run this jupyter or the `app.py`. Although bots are meant to work 24/7 (Bots, please don't kill me in the near future) this one sleeps when we shutdown the local listener.\n",
    "To overcome this situation, follow this wondeful tutorial to learn how to deploy, for free,  your bot at a live server.\n",
    "https://shakuganz.wordpress.com/2019/10/28/app-deployment-on-heroku/"
   ]
  },
  {
   "cell_type": "markdown",
   "metadata": {},
   "source": [
    ">### That’s all for today! If you’d like to take a look at another project, fell free to check-out my github portfolio at https://github.com/fsolares/professional-portfolio\n"
   ]
  }
 ],
 "metadata": {
  "kernelspec": {
   "display_name": "Python 3",
   "language": "python",
   "name": "python3"
  },
  "language_info": {
   "codemirror_mode": {
    "name": "ipython",
    "version": 3
   },
   "file_extension": ".py",
   "mimetype": "text/x-python",
   "name": "python",
   "nbconvert_exporter": "python",
   "pygments_lexer": "ipython3",
   "version": "3.7.6"
  }
 },
 "nbformat": 4,
 "nbformat_minor": 4
}
